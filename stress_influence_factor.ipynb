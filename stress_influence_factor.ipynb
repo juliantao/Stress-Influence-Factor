{
 "cells": [
  {
   "cell_type": "markdown",
   "metadata": {},
   "source": [
    "This notebook presents the common calculation methods for stress increment induced by a rectangular loading.\n",
    "\n",
    "Defination of the problem:\n",
    "\n",
    "Known: \n",
    "1) the loading is uniformly applied on an area measures B (width) x L (Length) at the ground surface\n",
    "\n",
    "2) Point A is located below the center of the area at a depth of zf\n",
    "\n",
    "3) Point B is located below the corner of the area at a depth of zf\n",
    "\n",
    "Solve:\n",
    "1) the stress influence factor at A using a) Boussinesq method (Newark's solution); b) Poulos approximation method; c) 1:2 method\n",
    "\n",
    "2) the stress influence factor at B using a) Boussinesq method (Newark's solution); b) 1:2 method\n",
    "\n",
    "To Use the Code:\n",
    "1) update the geometry parameters B, L and zf \n",
    "\n",
    "2) hit run button and review the results\n"
   ]
  },
  {
   "cell_type": "code",
   "execution_count": null,
   "metadata": {},
   "outputs": [],
   "source": [
    "import math"
   ]
  },
  {
   "cell_type": "code",
   "execution_count": null,
   "metadata": {},
   "outputs": [],
   "source": [
    "## input\n",
    "B = 0.5\n",
    "L = 1.0\n",
    "zf = 1.2"
   ]
  },
  {
   "cell_type": "code",
   "execution_count": null,
   "metadata": {},
   "outputs": [],
   "source": [
    "#### function IB defines the Newark's solution for Boussinesq method and calculate the influence factor IB under the corner of a rectangle loading area\n",
    "def IB(B, L, zf):\n",
    "\n",
    "    if B**2+L**2+zf**2 < B**2*L**2/zf**2:\n",
    "        I = 1/4/math.pi*((2*B*L*zf*(B**2+L**2+zf**2)**0.5/(zf**2*(B**2+L**2+zf**2)+B**2*L**2))*((B**2+L**2+2*zf**2)/(B**2+L**2+zf**2))+math.pi-math.asin(2*B*L*zf*(B**2+L**2+zf**2)**0.5/(zf**2*(B**2+L**2+zf**2)+B**2*L**2)))\n",
    "    else:\n",
    "        I = 1/4/math.pi*((2*B*L*zf*(B**2+L**2+zf**2)**0.5/(zf**2*(B**2+L**2+zf**2)+B**2*L**2))*((B**2+L**2+2*zf**2)/(B**2+L**2+zf**2))+math.asin(2*B*L*zf*(B**2+L**2+zf**2)**0.5/(zf**2*(B**2+L**2+zf**2)+B**2*L**2)))\n",
    "        return (I)\n",
    "\n",
    "#### function I_Poulos defines Poulus approximation equation to calculate the influence factor IB under the center of a rectangle loading area  \n",
    "def I_Poulos(B, L, zf):\n",
    "    I_Poulos = 1-(1/(1+(B/2/zf)**(1.38+0.62*B/L)))**(2.60-0.84*B/L)\n",
    "    return (I_Poulos)\n",
    "\n",
    "#### function I12 defines the 1:2 method to calculate the influence factor IB   \n",
    "def I12(B, L, zf):\n",
    "    I12 = (B*L)/(B+zf)/(L+zf)\n",
    "    return (I12)"
   ]
  },
  {
   "cell_type": "code",
   "execution_count": null,
   "metadata": {},
   "outputs": [],
   "source": [
    "IB_corner = IB(B, L, zf)     \n",
    "I12 = I12(B, L, zf)\n",
    "IB_center=4*IB(B/2, L/2, zf) \n",
    "I_Poulos = I_Poulos(B, L, zf)\n",
    "\n",
    "print ('Under the center, the stress influence factor calculated using the Boussinesq method is: ', IB_center)\n",
    "print ('Under the center, the stress influence factor calculated using the Poulus approximation method is: ', I_Poulos)\n",
    "print ('Under the center, the  stress influence factor calculated using the 1:2 method is: ',I12)  \n",
    "print ('Under the corner, the  stress influence factor calculated using the Boussinesq method is: ', IB_corner)"
   ]
  },
  {
   "cell_type": "code",
   "execution_count": null,
   "metadata": {},
   "outputs": [],
   "source": []
  }
 ],
 "metadata": {
  "kernelspec": {
   "display_name": "Python 3",
   "language": "python",
   "name": "python3"
  },
  "language_info": {
   "codemirror_mode": {
    "name": "ipython",
    "version": 3
   },
   "file_extension": ".py",
   "mimetype": "text/x-python",
   "name": "python",
   "nbconvert_exporter": "python",
   "pygments_lexer": "ipython3",
   "version": "3.7.3"
  }
 },
 "nbformat": 4,
 "nbformat_minor": 2
}
